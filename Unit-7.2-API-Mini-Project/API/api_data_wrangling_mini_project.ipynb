{
 "cells": [
  {
   "cell_type": "markdown",
   "metadata": {},
   "source": [
    "This exercise will require you to pull some data from the Qunadl API. Qaundl is currently the most widely used aggregator of financial market data."
   ]
  },
  {
   "cell_type": "markdown",
   "metadata": {},
   "source": [
    "As a first step, you will need to register a free account on the http://www.quandl.com website."
   ]
  },
  {
   "cell_type": "markdown",
   "metadata": {},
   "source": [
    "After you register, you will be provided with a unique API key, that you should store:"
   ]
  },
  {
   "cell_type": "code",
   "execution_count": 1,
   "metadata": {},
   "outputs": [],
   "source": [
    "# Store the API key as a string - according to PEP8, constants are always named in all upper case\n",
    "API_KEY = ''"
   ]
  },
  {
   "cell_type": "markdown",
   "metadata": {},
   "source": [
    "Qaundl has a large number of data sources, but, unfortunately, most of them require a Premium subscription. Still, there are also a good number of free datasets."
   ]
  },
  {
   "cell_type": "markdown",
   "metadata": {},
   "source": [
    "For this mini project, we will focus on equities data from the Frankfurt Stock Exhange (FSE), which is available for free. We'll try and analyze the stock prices of a company called Carl Zeiss Meditec, which manufactures tools for eye examinations, as well as medical lasers for laser eye surgery: https://www.zeiss.com/meditec/int/home.html. The company is listed under the stock ticker AFX_X."
   ]
  },
  {
   "cell_type": "markdown",
   "metadata": {},
   "source": [
    "You can find the detailed Quandl API instructions here: https://docs.quandl.com/docs/time-series"
   ]
  },
  {
   "cell_type": "markdown",
   "metadata": {},
   "source": [
    "While there is a dedicated Python package for connecting to the Quandl API, we would prefer that you use the *requests* package, which can be easily downloaded using *pip* or *conda*. You can find the documentation for the package here: http://docs.python-requests.org/en/master/ "
   ]
  },
  {
   "cell_type": "markdown",
   "metadata": {},
   "source": [
    "Finally, apart from the *requests* package, you are encouraged to not use any third party Python packages, such as *pandas*, and instead focus on what's available in the Python Standard Library (the *collections* module might come in handy: https://pymotw.com/3/collections/ ).\n",
    "Also, since you won't have access to DataFrames, you are encouraged to us Python's native data structures - preferably dictionaries, though some questions can also be answered using lists.\n",
    "You can read more on these data structures here: https://docs.python.org/3/tutorial/datastructures.html"
   ]
  },
  {
   "cell_type": "markdown",
   "metadata": {},
   "source": [
    "Keep in mind that the JSON responses you will be getting from the API map almost one-to-one to Python's dictionaries. Unfortunately, they can be very nested, so make sure you read up on indexing dictionaries in the documentation provided above."
   ]
  },
  {
   "cell_type": "code",
   "execution_count": 3,
   "metadata": {},
   "outputs": [],
   "source": [
    "# First, import the relevant modules\n",
    "import collections\n",
    "import requests\n",
    "import json"
   ]
  },
  {
   "cell_type": "code",
   "execution_count": 70,
   "metadata": {},
   "outputs": [
    {
     "name": "stdout",
     "output_type": "stream",
     "text": [
      "data: ['2020-12-01', 112.2, 112.2, 111.5, 112.0, None, 51.0, 5703.0, None, None, None]\n",
      "['Date', 'Open', 'High', 'Low', 'Close', 'Change', 'Traded Volume', 'Turnover', 'Last Price of the Day', 'Daily Traded Units', 'Daily Turnover']\n"
     ]
    }
   ],
   "source": [
    "# Now, call the Quandl API and pull out a small sample of the data (only one day) to get a glimpse\n",
    "# into the JSON structure that will be returned\n",
    "url = 'https://www.quandl.com/api/v3/datasets/FSE/AFX_X.json?api_key='\n",
    "r = requests.get(url)\n",
    "\n",
    "# Checks if request worked & a sample data of one random dayt\n",
    "\n",
    "if not r:\n",
    "    print('The response code ', r.status_code)\n",
    "else:\n",
    "    json_data = r.json()\n",
    "    for k in json_data:\n",
    "        for i in json_data[k]:\n",
    "            if i == 'data':\n",
    "                print(i + ':', json_data[k][i][0])\n",
    "print(json_2017['dataset']['column_names'])\n",
    "                "
   ]
  },
  {
   "cell_type": "markdown",
   "metadata": {},
   "source": [
    "These are your tasks for this mini project:\n",
    "\n",
    "1. Collect data from the Franfurt Stock Exchange, for the ticker AFX_X, for the whole year 2017 (keep in mind that the date format is YYYY-MM-DD).\n",
    "2. Convert the returned JSON object into a Python dictionary.\n",
    "3. Calculate what the highest and lowest opening prices were for the stock in this period.\n",
    "4. What was the largest change in any one day (based on High and Low price)?\n",
    "5. What was the largest change between any two days (based on Closing Price)?\n",
    "6. What was the average daily trading volume during this year?\n",
    "7. (Optional) What was the median trading volume during this year. (Note: you may need to implement your own function for calculating the median.)"
   ]
  },
  {
   "cell_type": "code",
   "execution_count": 61,
   "metadata": {},
   "outputs": [
    {
     "name": "stdout",
     "output_type": "stream",
     "text": [
      "The highest and lowest price on opening days are $53.11 and $34.0, respectively.\n"
     ]
    }
   ],
   "source": [
    "url_2017 = 'https://www.quandl.com/api/v3/datasets/FSE/AFX_X.json?api_key=&start_date=2017-01-01&end_date=2017-12-31'\n",
    "r_2017 = requests.get(url_2017)\n",
    "json_2017 = r_2017.json()\n",
    "\n",
    "# Find max and min values on opening day:\n",
    "\n",
    "index_Open = json_2017['dataset']['column_names'].index('Open') \n",
    "prices_Open = [value[index_Open] for value in json_2017['dataset']['data'] if value[index_Open]]\n",
    "max_Open = max(prices_Open)\n",
    "min_Open =min(prices_Open)\n",
    "\n",
    "print(f'The highest and lowest price on opening days are ${max_Open} and ${min_Open}, respectively.')"
   ]
  },
  {
   "cell_type": "code",
   "execution_count": 83,
   "metadata": {},
   "outputs": [
    {
     "name": "stdout",
     "output_type": "stream",
     "text": [
      "The highest difference between High and Low price in one day is $2.8100000000000023\n"
     ]
    }
   ],
   "source": [
    "# Check what is the biggest difference of High & Low Prices for one day\n",
    "\n",
    "index_High = json_2017['dataset']['column_names'].index('High')\n",
    "index_Low = json_2017['dataset']['column_names'].index('Low')\n",
    "prices_High = [H[index_High] for H in json_2017['dataset']['data']]\n",
    "prices_Low = [L[index_Low] for L in json_2017['dataset']['data']]\n",
    "#print(len(prices_High), len(prices_Low))\n",
    "\n",
    "prices_Diff = [hi - lo for hi, lo in zip(prices_High, prices_Low)]\n",
    "max_Diff = max(prices_Diff)\n",
    "print(f'The highest difference between High and Low price in one day is ${max_Diff}')"
   ]
  },
  {
   "cell_type": "code",
   "execution_count": 103,
   "metadata": {},
   "outputs": [
    {
     "name": "stdout",
     "output_type": "stream",
     "text": [
      "The largest difference between any two days is $2.559999999999995\n"
     ]
    }
   ],
   "source": [
    "# Check what is the largest difference in any two days based on Closing Price\n",
    "\n",
    "index_Close = json_2017['dataset']['column_names'].index('Close')\n",
    "prices_Close = [cl[index_Close] for cl in json_2017['dataset']['data'] if cl[index_Close]]\n",
    "\n",
    "close_Diff = []\n",
    "for cl in range(0, len(prices_Close) - 1):\n",
    "    diff_Close = abs(prices_Close[cl] - prices_Close[cl + 1])\n",
    "    close_Diff.append(diff_Close)\n",
    "\n",
    "max_CloseDiff = max(close_Diff)\n",
    "print(f'The largest difference between any two days is ${max_CloseDiff}.')\n"
   ]
  },
  {
   "cell_type": "code",
   "execution_count": 110,
   "metadata": {},
   "outputs": [
    {
     "name": "stdout",
     "output_type": "stream",
     "text": [
      "The average daily trading volums is 89124.33725490196.\n"
     ]
    }
   ],
   "source": [
    "# Find the average daily trading volume\n",
    "\n",
    "index_Vol = json_2017['dataset']['column_names'].index('Traded Volume')\n",
    "avg_Vol = [avg[index_Vol] for avg in json_2017['dataset']['data'] if avg[index_Vol]]\n",
    "daily_Avg = sum(avg_Vol) / len(avg_Vol)\n",
    "print(f'The average daily trading volums is {daily_Avg}.')"
   ]
  },
  {
   "cell_type": "code",
   "execution_count": 129,
   "metadata": {},
   "outputs": [
    {
     "name": "stdout",
     "output_type": "stream",
     "text": [
      "255\n",
      "The median of the trading volume is 76600.0.\n"
     ]
    }
   ],
   "source": [
    "# Optional: Find median trading volume\n",
    "\n",
    "print(len(avg_Vol))\n",
    "sort_Vol = sorted(avg_Vol)\n",
    "median_Index = round(len(sort_Vol)/ 2)\n",
    "median_Vol = sort_Vol[median_Index]\n",
    "print(f'The median of the trading volume is {median_Vol}.')\n"
   ]
  },
  {
   "cell_type": "code",
   "execution_count": 130,
   "metadata": {},
   "outputs": [
    {
     "name": "stdout",
     "output_type": "stream",
     "text": [
      "The highest and lowest price on opening days are $53.11 and $34.0, respectively.\n",
      "The highest difference between High and Low price in one day is $2.8100000000000023\n",
      "The largest difference between any two days is $2.559999999999995.\n",
      "The average daily trading volums is 89124.33725490196.\n",
      "The median of the trading volume is 76600.0.\n"
     ]
    }
   ],
   "source": [
    "# PRINT RESULTS OF ALL TASKS\n",
    "\n",
    "print(f'The highest and lowest price on opening days are ${max_Open} and ${min_Open}, respectively.')\n",
    "print(f'The highest difference between High and Low price in one day is ${max_Diff}')\n",
    "print(f'The largest difference between any two days is ${max_CloseDiff}.')\n",
    "print(f'The average daily trading volums is {daily_Avg}.')\n",
    "print(f'The median of the trading volume is {median_Vol}.')"
   ]
  },
  {
   "cell_type": "code",
   "execution_count": null,
   "metadata": {},
   "outputs": [],
   "source": []
  }
 ],
 "metadata": {
  "kernelspec": {
   "display_name": "Python 3",
   "language": "python",
   "name": "python3"
  },
  "language_info": {
   "codemirror_mode": {
    "name": "ipython",
    "version": 3
   },
   "file_extension": ".py",
   "mimetype": "text/x-python",
   "name": "python",
   "nbconvert_exporter": "python",
   "pygments_lexer": "ipython3",
   "version": "3.7.6"
  }
 },
 "nbformat": 4,
 "nbformat_minor": 2
}
